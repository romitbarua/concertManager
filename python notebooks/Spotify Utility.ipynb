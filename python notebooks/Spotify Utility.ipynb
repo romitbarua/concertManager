{
 "cells": [
  {
   "cell_type": "code",
   "execution_count": 1,
   "id": "1175de68",
   "metadata": {},
   "outputs": [],
   "source": [
    "import spotipy\n",
    "from spotipy.oauth2 import SpotifyClientCredentials\n",
    "from spotipy.oauth2 import SpotifyOAuth"
   ]
  },
  {
   "cell_type": "markdown",
   "id": "e9ad512c",
   "metadata": {},
   "source": [
    "# Two Different Ways to Authenticate Users\n",
    "1. SpotifyClientCredentials - can be used without the user being directed into another URL. Cannot be used to pull or edit specific user data\n",
    "2. SpotifyOAuth - will be used to update users specific profiles such as creating custom playlists"
   ]
  },
  {
   "cell_type": "code",
   "execution_count": 2,
   "id": "a1ab9eeb",
   "metadata": {},
   "outputs": [],
   "source": [
    "client_id = '868cd5aefb524008bee01a4c9b3feba1'\n",
    "client_secret = '50d9e80711934c858057e98af05676d9'\n",
    "redirect_uri = 'http://localhost:8080/callback'\n",
    "username = '1npp6j4y6ynf7jrkvwepadbyk'\n",
    "scope = 'playlist-modify-private'"
   ]
  },
  {
   "cell_type": "code",
   "execution_count": 3,
   "id": "2dcd462e",
   "metadata": {},
   "outputs": [],
   "source": [
    "auth_manager = SpotifyClientCredentials(client_id=client_id, client_secret=client_secret)\n",
    "sp_scc = spotipy.Spotify(auth_manager=auth_manager)"
   ]
  },
  {
   "cell_type": "code",
   "execution_count": 4,
   "id": "bb4ac7dc",
   "metadata": {},
   "outputs": [],
   "source": [
    "auth_manager = SpotifyOAuth(client_id=client_id,\n",
    "                            client_secret=client_secret,\n",
    "                            redirect_uri=redirect_uri,\n",
    "                            username=username,\n",
    "                           scope=scope)\n",
    "sp_soa = spotipy.Spotify(auth_manager=auth_manager)"
   ]
  },
  {
   "cell_type": "markdown",
   "id": "8409f404",
   "metadata": {},
   "source": [
    "# Data Collection"
   ]
  },
  {
   "cell_type": "markdown",
   "id": "538ecaf9",
   "metadata": {},
   "source": [
    "It will be best if we can get and store the user ids in our system since most functions ask for user id"
   ]
  },
  {
   "cell_type": "code",
   "execution_count": 5,
   "id": "c4b88295",
   "metadata": {},
   "outputs": [],
   "source": [
    "user_data = sp_soa.me()\n",
    "display_name = user_data['display_name']\n",
    "user_id = user_data['id']"
   ]
  },
  {
   "cell_type": "code",
   "execution_count": 14,
   "id": "60c80940",
   "metadata": {},
   "outputs": [],
   "source": [
    "def getArtistID(artist):\n",
    "    artist_data = sp_soa.search(q='artist:' + artist, type='artist')\n",
    "    artist_id = artist_data['artists']['items'][0]['id']\n",
    "    return artist_id"
   ]
  },
  {
   "cell_type": "markdown",
   "id": "ee6fe9b6",
   "metadata": {},
   "source": [
    "# Create a Custom Playlist"
   ]
  },
  {
   "cell_type": "code",
   "execution_count": 6,
   "id": "a35f1692",
   "metadata": {},
   "outputs": [],
   "source": [
    "def createPlaylist(playlist_name, song_list):\n",
    "    sp_soa.user_playlist_create(user=user_id, name=playlist_name, public=False)"
   ]
  },
  {
   "cell_type": "code",
   "execution_count": 7,
   "id": "1a48ecc4",
   "metadata": {},
   "outputs": [],
   "source": [
    "playlist_name = 'Dua Lipa Concert Playlist'\n",
    "playlist_data = sp_soa.user_playlist_create(user=user_id, name=playlist_name, public=False)"
   ]
  },
  {
   "cell_type": "code",
   "execution_count": 8,
   "id": "9d209012",
   "metadata": {},
   "outputs": [],
   "source": [
    "playlist_id = playlist_data['id']"
   ]
  },
  {
   "cell_type": "code",
   "execution_count": 9,
   "id": "c3caade9",
   "metadata": {},
   "outputs": [],
   "source": [
    "track_list = [('Physical', 'Dua Lipa'), ('New Rules', 'Dua Lipa'), ('Love Again', 'Dua Lipa'), ('Cool', 'Dua Lipa'),\n",
    "              ('Pretty Please','Dua Lipa'),('Break My Heart','Dua Lipa'), ('Be The One','Dua Lipa'), ('IDGAF','Dua Lipa'), \n",
    "            ('Were Good', 'Dua Lipa'), ('Good in Bed', 'Dua Lipa'), ('Fever', 'Dua Lipa'), ('Boys Will Be Boys','Dua Lipa'),\n",
    "              ('One Kiss','Calvin Harris'), ('Electricity','Silk City'), ('Hallucinate','Dua Lipa'), ('Cold Heart', 'Elton John'),\n",
    "              ('Levitating', 'Dua Lipa'), ('Future Nostalgia','Dua Lipa'), ('Dont Start Now', 'Dua Lipa')]\n",
    "track_ids = []\n",
    "for track, artist in track_list:\n",
    "    track_data = sp_soa.search(q='artist:' + artist + ' track:' + track, type='track')\n",
    "    if len(track_data['tracks']['items']) > 0:\n",
    "        track_ids.append(track_data['tracks']['items'][0]['id'])\n",
    "    else:\n",
    "        print('Could not find {}'.format(track))"
   ]
  },
  {
   "cell_type": "code",
   "execution_count": 10,
   "id": "1167fa0e",
   "metadata": {},
   "outputs": [
    {
     "data": {
      "text/plain": [
       "{'snapshot_id': 'MixhNWI2NzU1ZDEwYjQxODhiZWEyY2E0MWU4MWZjYjU2NmY4MTRkYThj'}"
      ]
     },
     "execution_count": 10,
     "metadata": {},
     "output_type": "execute_result"
    }
   ],
   "source": [
    "sp_soa.user_playlist_add_tracks(user=user_id, playlist_id=playlist_id, tracks=track_ids)"
   ]
  },
  {
   "cell_type": "markdown",
   "id": "78b596cd",
   "metadata": {},
   "source": [
    "# Get Similar Artists (Spotify Recommendations)"
   ]
  },
  {
   "cell_type": "code",
   "execution_count": 15,
   "id": "8afcbd0a",
   "metadata": {},
   "outputs": [
    {
     "name": "stdout",
     "output_type": "stream",
     "text": [
      "{'artists': [{'external_urls': {'spotify': 'https://open.spotify.com/artist/5vBSrE1xujD2FXYRarbAXc'}, 'followers': {'href': None, 'total': 1855925}, 'genres': ['dance pop', 'edm', 'electropop', 'gauze pop', 'pop', 'pop dance', 'tropical house'], 'href': 'https://api.spotify.com/v1/artists/5vBSrE1xujD2FXYRarbAXc', 'id': '5vBSrE1xujD2FXYRarbAXc', 'images': [{'height': 640, 'url': 'https://i.scdn.co/image/ab6761610000e5eb5a00879e258b7c4e76816e52', 'width': 640}, {'height': 320, 'url': 'https://i.scdn.co/image/ab676161000051745a00879e258b7c4e76816e52', 'width': 320}, {'height': 160, 'url': 'https://i.scdn.co/image/ab6761610000f1785a00879e258b7c4e76816e52', 'width': 160}], 'name': 'Years & Years', 'popularity': 76, 'type': 'artist', 'uri': 'spotify:artist:5vBSrE1xujD2FXYRarbAXc'}, {'external_urls': {'spotify': 'https://open.spotify.com/artist/5CCwRZC6euC8Odo6y9X8jr'}, 'followers': {'href': None, 'total': 7320600}, 'genres': ['dance pop', 'edm', 'electropop', 'pop', 'pop rap', 'post-teen pop', 'tropical house', 'uk pop'], 'href': 'https://api.spotify.com/v1/artists/5CCwRZC6euC8Odo6y9X8jr', 'id': '5CCwRZC6euC8Odo6y9X8jr', 'images': [{'height': 640, 'url': 'https://i.scdn.co/image/ab6761610000e5eb484ddaa955c4c03a46ef8d8d', 'width': 640}, {'height': 320, 'url': 'https://i.scdn.co/image/ab67616100005174484ddaa955c4c03a46ef8d8d', 'width': 320}, {'height': 160, 'url': 'https://i.scdn.co/image/ab6761610000f178484ddaa955c4c03a46ef8d8d', 'width': 160}], 'name': 'Rita Ora', 'popularity': 79, 'type': 'artist', 'uri': 'spotify:artist:5CCwRZC6euC8Odo6y9X8jr'}, {'external_urls': {'spotify': 'https://open.spotify.com/artist/0C8ZW7ezQVs4URX5aX7Kqx'}, 'followers': {'href': None, 'total': 33990401}, 'genres': ['dance pop', 'pop', 'post-teen pop'], 'href': 'https://api.spotify.com/v1/artists/0C8ZW7ezQVs4URX5aX7Kqx', 'id': '0C8ZW7ezQVs4URX5aX7Kqx', 'images': [{'height': 640, 'url': 'https://i.scdn.co/image/ab6761610000e5eba5205abffd84341e5bace828', 'width': 640}, {'height': 320, 'url': 'https://i.scdn.co/image/ab67616100005174a5205abffd84341e5bace828', 'width': 320}, {'height': 160, 'url': 'https://i.scdn.co/image/ab6761610000f178a5205abffd84341e5bace828', 'width': 160}], 'name': 'Selena Gomez', 'popularity': 86, 'type': 'artist', 'uri': 'spotify:artist:0C8ZW7ezQVs4URX5aX7Kqx'}, {'external_urls': {'spotify': 'https://open.spotify.com/artist/4npEfmQ6YuiwW1GpUmaq3F'}, 'followers': {'href': None, 'total': 5029415}, 'genres': ['dance pop', 'pop'], 'href': 'https://api.spotify.com/v1/artists/4npEfmQ6YuiwW1GpUmaq3F', 'id': '4npEfmQ6YuiwW1GpUmaq3F', 'images': [{'height': 640, 'url': 'https://i.scdn.co/image/ab6761610000e5eb34669af44674f43cb34bf84b', 'width': 640}, {'height': 320, 'url': 'https://i.scdn.co/image/ab6761610000517434669af44674f43cb34bf84b', 'width': 320}, {'height': 160, 'url': 'https://i.scdn.co/image/ab6761610000f17834669af44674f43cb34bf84b', 'width': 160}], 'name': 'Ava Max', 'popularity': 86, 'type': 'artist', 'uri': 'spotify:artist:4npEfmQ6YuiwW1GpUmaq3F'}, {'external_urls': {'spotify': 'https://open.spotify.com/artist/1l8Fu6IkuTP0U5QetQJ5Xt'}, 'followers': {'href': None, 'total': 14102598}, 'genres': ['dance pop', 'girl group', 'pop', 'post-teen pop', 'talent show'], 'href': 'https://api.spotify.com/v1/artists/1l8Fu6IkuTP0U5QetQJ5Xt', 'id': '1l8Fu6IkuTP0U5QetQJ5Xt', 'images': [{'height': 640, 'url': 'https://i.scdn.co/image/ab6761610000e5eb5acb3cb0a8b87d3952738b97', 'width': 640}, {'height': 320, 'url': 'https://i.scdn.co/image/ab676161000051745acb3cb0a8b87d3952738b97', 'width': 320}, {'height': 160, 'url': 'https://i.scdn.co/image/ab6761610000f1785acb3cb0a8b87d3952738b97', 'width': 160}], 'name': 'Fifth Harmony', 'popularity': 74, 'type': 'artist', 'uri': 'spotify:artist:1l8Fu6IkuTP0U5QetQJ5Xt'}, {'external_urls': {'spotify': 'https://open.spotify.com/artist/4nDoRrQiYLoBzwC5BhVJzF'}, 'followers': {'href': None, 'total': 25937826}, 'genres': ['dance pop', 'pop', 'post-teen pop'], 'href': 'https://api.spotify.com/v1/artists/4nDoRrQiYLoBzwC5BhVJzF', 'id': '4nDoRrQiYLoBzwC5BhVJzF', 'images': [{'height': 640, 'url': 'https://i.scdn.co/image/ab6761610000e5eb3ca4ce704a7b0b95cb450d1c', 'width': 640}, {'height': 320, 'url': 'https://i.scdn.co/image/ab676161000051743ca4ce704a7b0b95cb450d1c', 'width': 320}, {'height': 160, 'url': 'https://i.scdn.co/image/ab6761610000f1783ca4ce704a7b0b95cb450d1c', 'width': 160}], 'name': 'Camila Cabello', 'popularity': 87, 'type': 'artist', 'uri': 'spotify:artist:4nDoRrQiYLoBzwC5BhVJzF'}, {'external_urls': {'spotify': 'https://open.spotify.com/artist/1Xylc3o4UrD53lo9CvFvVg'}, 'followers': {'href': None, 'total': 9867993}, 'genres': ['dance pop', 'edm', 'electropop', 'pop', 'pop dance', 'post-teen pop', 'scandipop', 'swedish electropop', 'swedish pop', 'tropical house'], 'href': 'https://api.spotify.com/v1/artists/1Xylc3o4UrD53lo9CvFvVg', 'id': '1Xylc3o4UrD53lo9CvFvVg', 'images': [{'height': 640, 'url': 'https://i.scdn.co/image/ab6761610000e5eba63a2b0ceb57eb509d67c90f', 'width': 640}, {'height': 320, 'url': 'https://i.scdn.co/image/ab67616100005174a63a2b0ceb57eb509d67c90f', 'width': 320}, {'height': 160, 'url': 'https://i.scdn.co/image/ab6761610000f178a63a2b0ceb57eb509d67c90f', 'width': 160}], 'name': 'Zara Larsson', 'popularity': 79, 'type': 'artist', 'uri': 'spotify:artist:1Xylc3o4UrD53lo9CvFvVg'}, {'external_urls': {'spotify': 'https://open.spotify.com/artist/0X2BH1fck6amBIoJhDVmmJ'}, 'followers': {'href': None, 'total': 10627158}, 'genres': ['dance pop', 'edm', 'electropop', 'indietronica', 'metropopolis', 'pop', 'post-teen pop', 'uk pop'], 'href': 'https://api.spotify.com/v1/artists/0X2BH1fck6amBIoJhDVmmJ', 'id': '0X2BH1fck6amBIoJhDVmmJ', 'images': [{'height': 640, 'url': 'https://i.scdn.co/image/ab6761610000e5ebaa972cb3308ccbeeff38666a', 'width': 640}, {'height': 320, 'url': 'https://i.scdn.co/image/ab67616100005174aa972cb3308ccbeeff38666a', 'width': 320}, {'height': 160, 'url': 'https://i.scdn.co/image/ab6761610000f178aa972cb3308ccbeeff38666a', 'width': 160}], 'name': 'Ellie Goulding', 'popularity': 81, 'type': 'artist', 'uri': 'spotify:artist:0X2BH1fck6amBIoJhDVmmJ'}, {'external_urls': {'spotify': 'https://open.spotify.com/artist/4ScCswdRlyA23odg9thgIO'}, 'followers': {'href': None, 'total': 2710878}, 'genres': ['dance pop', 'pop', 'pop dance', 'post-teen pop', 'tropical house', 'uk pop'], 'href': 'https://api.spotify.com/v1/artists/4ScCswdRlyA23odg9thgIO', 'id': '4ScCswdRlyA23odg9thgIO', 'images': [{'height': 640, 'url': 'https://i.scdn.co/image/ab6761610000e5eb7d800f202dd15af03179876b', 'width': 640}, {'height': 320, 'url': 'https://i.scdn.co/image/ab676161000051747d800f202dd15af03179876b', 'width': 320}, {'height': 160, 'url': 'https://i.scdn.co/image/ab6761610000f1787d800f202dd15af03179876b', 'width': 160}], 'name': 'Jess Glynne', 'popularity': 77, 'type': 'artist', 'uri': 'spotify:artist:4ScCswdRlyA23odg9thgIO'}, {'external_urls': {'spotify': 'https://open.spotify.com/artist/6T5tfhQCknKG4UnH90qGnz'}, 'followers': {'href': None, 'total': 4118823}, 'genres': ['dance pop', 'pop', 'post-teen pop'], 'href': 'https://api.spotify.com/v1/artists/6T5tfhQCknKG4UnH90qGnz', 'id': '6T5tfhQCknKG4UnH90qGnz', 'images': [{'height': 640, 'url': 'https://i.scdn.co/image/ab6761610000e5eba290ca663e0f4a1007634d79', 'width': 640}, {'height': 320, 'url': 'https://i.scdn.co/image/ab67616100005174a290ca663e0f4a1007634d79', 'width': 320}, {'height': 160, 'url': 'https://i.scdn.co/image/ab6761610000f178a290ca663e0f4a1007634d79', 'width': 160}], 'name': 'DNCE', 'popularity': 74, 'type': 'artist', 'uri': 'spotify:artist:6T5tfhQCknKG4UnH90qGnz'}, {'external_urls': {'spotify': 'https://open.spotify.com/artist/2wUjUUtkb5lvLKcGKsKqsR'}, 'followers': {'href': None, 'total': 10110781}, 'genres': ['canadian contemporary r&b', 'canadian pop', 'dance pop', 'electropop', 'pop', 'post-teen pop'], 'href': 'https://api.spotify.com/v1/artists/2wUjUUtkb5lvLKcGKsKqsR', 'id': '2wUjUUtkb5lvLKcGKsKqsR', 'images': [{'height': 640, 'url': 'https://i.scdn.co/image/ab6761610000e5ebe74b7398634a741f74858dc7', 'width': 640}, {'height': 320, 'url': 'https://i.scdn.co/image/ab67616100005174e74b7398634a741f74858dc7', 'width': 320}, {'height': 160, 'url': 'https://i.scdn.co/image/ab6761610000f178e74b7398634a741f74858dc7', 'width': 160}], 'name': 'Alessia Cara', 'popularity': 80, 'type': 'artist', 'uri': 'spotify:artist:2wUjUUtkb5lvLKcGKsKqsR'}, {'external_urls': {'spotify': 'https://open.spotify.com/artist/6S2OmqARrzebs0tKUEyXyp'}, 'followers': {'href': None, 'total': 21946318}, 'genres': ['dance pop', 'pop', 'post-teen pop'], 'href': 'https://api.spotify.com/v1/artists/6S2OmqARrzebs0tKUEyXyp', 'id': '6S2OmqARrzebs0tKUEyXyp', 'images': [{'height': 640, 'url': 'https://i.scdn.co/image/ab6761610000e5eb99c4e0564b8d23a3d0645af1', 'width': 640}, {'height': 320, 'url': 'https://i.scdn.co/image/ab6761610000517499c4e0564b8d23a3d0645af1', 'width': 320}, {'height': 160, 'url': 'https://i.scdn.co/image/ab6761610000f17899c4e0564b8d23a3d0645af1', 'width': 160}], 'name': 'Demi Lovato', 'popularity': 84, 'type': 'artist', 'uri': 'spotify:artist:6S2OmqARrzebs0tKUEyXyp'}, {'external_urls': {'spotify': 'https://open.spotify.com/artist/26VFTg2z8YR0cCuwLzESi2'}, 'followers': {'href': None, 'total': 17349425}, 'genres': ['dance pop', 'electropop', 'etherpop', 'indie poptimism', 'pop'], 'href': 'https://api.spotify.com/v1/artists/26VFTg2z8YR0cCuwLzESi2', 'id': '26VFTg2z8YR0cCuwLzESi2', 'images': [{'height': 640, 'url': 'https://i.scdn.co/image/ab6761610000e5ebdade5a33a51db8b049787d7f', 'width': 640}, {'height': 320, 'url': 'https://i.scdn.co/image/ab67616100005174dade5a33a51db8b049787d7f', 'width': 320}, {'height': 160, 'url': 'https://i.scdn.co/image/ab6761610000f178dade5a33a51db8b049787d7f', 'width': 160}], 'name': 'Halsey', 'popularity': 87, 'type': 'artist', 'uri': 'spotify:artist:26VFTg2z8YR0cCuwLzESi2'}, {'external_urls': {'spotify': 'https://open.spotify.com/artist/5YGY8feqx7naU7z4HrwZM6'}, 'followers': {'href': None, 'total': 17707527}, 'genres': ['dance pop', 'pop', 'post-teen pop'], 'href': 'https://api.spotify.com/v1/artists/5YGY8feqx7naU7z4HrwZM6', 'id': '5YGY8feqx7naU7z4HrwZM6', 'images': [{'height': 640, 'url': 'https://i.scdn.co/image/ab6761610000e5eb302f6e5dacd0dd1af0d97bc9', 'width': 640}, {'height': 320, 'url': 'https://i.scdn.co/image/ab67616100005174302f6e5dacd0dd1af0d97bc9', 'width': 320}, {'height': 160, 'url': 'https://i.scdn.co/image/ab6761610000f178302f6e5dacd0dd1af0d97bc9', 'width': 160}], 'name': 'Miley Cyrus', 'popularity': 86, 'type': 'artist', 'uri': 'spotify:artist:5YGY8feqx7naU7z4HrwZM6'}, {'external_urls': {'spotify': 'https://open.spotify.com/artist/1zNqDE7qDGCsyzJwohVaoX'}, 'followers': {'href': None, 'total': 9319438}, 'genres': ['dance pop', 'pop', 'pop dance', 'post-teen pop', 'tropical house', 'uk pop'], 'href': 'https://api.spotify.com/v1/artists/1zNqDE7qDGCsyzJwohVaoX', 'id': '1zNqDE7qDGCsyzJwohVaoX', 'images': [{'height': 640, 'url': 'https://i.scdn.co/image/ab6761610000e5eb1e553befc24937f68be6dbea', 'width': 640}, {'height': 320, 'url': 'https://i.scdn.co/image/ab676161000051741e553befc24937f68be6dbea', 'width': 320}, {'height': 160, 'url': 'https://i.scdn.co/image/ab6761610000f1781e553befc24937f68be6dbea', 'width': 160}], 'name': 'Anne-Marie', 'popularity': 82, 'type': 'artist', 'uri': 'spotify:artist:1zNqDE7qDGCsyzJwohVaoX'}, {'external_urls': {'spotify': 'https://open.spotify.com/artist/1MIVXf74SZHmTIp4V4paH4'}, 'followers': {'href': None, 'total': 1559182}, 'genres': ['dance pop', 'edm', 'pop', 'pop dance', 'post-teen pop', 'tropical house', 'uk pop'], 'href': 'https://api.spotify.com/v1/artists/1MIVXf74SZHmTIp4V4paH4', 'id': '1MIVXf74SZHmTIp4V4paH4', 'images': [{'height': 640, 'url': 'https://i.scdn.co/image/ab6761610000e5ebd7383d5b28dca9207c4ab728', 'width': 640}, {'height': 320, 'url': 'https://i.scdn.co/image/ab67616100005174d7383d5b28dca9207c4ab728', 'width': 320}, {'height': 160, 'url': 'https://i.scdn.co/image/ab6761610000f178d7383d5b28dca9207c4ab728', 'width': 160}], 'name': 'Mabel', 'popularity': 77, 'type': 'artist', 'uri': 'spotify:artist:1MIVXf74SZHmTIp4V4paH4'}, {'external_urls': {'spotify': 'https://open.spotify.com/artist/5ZsFI1h6hIdQRw2ti0hz81'}, 'followers': {'href': None, 'total': 19378286}, 'genres': ['dance pop', 'electropop', 'pop', 'post-teen pop', 'uk pop'], 'href': 'https://api.spotify.com/v1/artists/5ZsFI1h6hIdQRw2ti0hz81', 'id': '5ZsFI1h6hIdQRw2ti0hz81', 'images': [{'height': 640, 'url': 'https://i.scdn.co/image/ab6761610000e5eb9fbf7133dfc04d4cd44ccd36', 'width': 640}, {'height': 320, 'url': 'https://i.scdn.co/image/ab676161000051749fbf7133dfc04d4cd44ccd36', 'width': 320}, {'height': 160, 'url': 'https://i.scdn.co/image/ab6761610000f1789fbf7133dfc04d4cd44ccd36', 'width': 160}], 'name': 'ZAYN', 'popularity': 81, 'type': 'artist', 'uri': 'spotify:artist:5ZsFI1h6hIdQRw2ti0hz81'}, {'external_urls': {'spotify': 'https://open.spotify.com/artist/2kRfqPViCqYdSGhYSM9R0Q'}, 'followers': {'href': None, 'total': 4647566}, 'genres': ['alt z', 'dance pop', 'electropop', 'pop', 'post-teen pop'], 'href': 'https://api.spotify.com/v1/artists/2kRfqPViCqYdSGhYSM9R0Q', 'id': '2kRfqPViCqYdSGhYSM9R0Q', 'images': [{'height': 640, 'url': 'https://i.scdn.co/image/ab6761610000e5ebf6dd8fddf50fcd117fef100b', 'width': 640}, {'height': 320, 'url': 'https://i.scdn.co/image/ab67616100005174f6dd8fddf50fcd117fef100b', 'width': 320}, {'height': 160, 'url': 'https://i.scdn.co/image/ab6761610000f178f6dd8fddf50fcd117fef100b', 'width': 160}], 'name': 'Madison Beer', 'popularity': 78, 'type': 'artist', 'uri': 'spotify:artist:2kRfqPViCqYdSGhYSM9R0Q'}, {'external_urls': {'spotify': 'https://open.spotify.com/artist/6MDME20pz9RveH9rEXvrOM'}, 'followers': {'href': None, 'total': 4719754}, 'genres': ['dance pop', 'edm', 'pop', 'pop dance', 'tropical house', 'uk dance', 'uk funky'], 'href': 'https://api.spotify.com/v1/artists/6MDME20pz9RveH9rEXvrOM', 'id': '6MDME20pz9RveH9rEXvrOM', 'images': [{'height': 640, 'url': 'https://i.scdn.co/image/ab6761610000e5eb7a487027eb0c10af725d5410', 'width': 640}, {'height': 320, 'url': 'https://i.scdn.co/image/ab676161000051747a487027eb0c10af725d5410', 'width': 320}, {'height': 160, 'url': 'https://i.scdn.co/image/ab6761610000f1787a487027eb0c10af725d5410', 'width': 160}], 'name': 'Clean Bandit', 'popularity': 81, 'type': 'artist', 'uri': 'spotify:artist:6MDME20pz9RveH9rEXvrOM'}, {'external_urls': {'spotify': 'https://open.spotify.com/artist/64M6ah0SkkRsnPGtGiRAbb'}, 'followers': {'href': None, 'total': 7152617}, 'genres': ['dance pop', 'edm', 'electropop', 'pop', 'post-teen pop'], 'href': 'https://api.spotify.com/v1/artists/64M6ah0SkkRsnPGtGiRAbb', 'id': '64M6ah0SkkRsnPGtGiRAbb', 'images': [{'height': 640, 'url': 'https://i.scdn.co/image/ab6761610000e5ebabfac786f093c4da55c99d4e', 'width': 640}, {'height': 320, 'url': 'https://i.scdn.co/image/ab67616100005174abfac786f093c4da55c99d4e', 'width': 320}, {'height': 160, 'url': 'https://i.scdn.co/image/ab6761610000f178abfac786f093c4da55c99d4e', 'width': 160}], 'name': 'Bebe Rexha', 'popularity': 82, 'type': 'artist', 'uri': 'spotify:artist:64M6ah0SkkRsnPGtGiRAbb'}]}\n"
     ]
    }
   ],
   "source": [
    "def getSimilarArtists(artist):\n",
    "    artist_id = getArtistID(artist)\n",
    "    related_artists = sp_soa.artist_related_artists(artist_id)\n",
    "    print(related_artists)\n",
    "    \n",
    "getSimilarArtists('Dua Lipa')"
   ]
  }
 ],
 "metadata": {
  "kernelspec": {
   "display_name": "Python 3",
   "language": "python",
   "name": "python3"
  },
  "language_info": {
   "codemirror_mode": {
    "name": "ipython",
    "version": 3
   },
   "file_extension": ".py",
   "mimetype": "text/x-python",
   "name": "python",
   "nbconvert_exporter": "python",
   "pygments_lexer": "ipython3",
   "version": "3.8.8"
  }
 },
 "nbformat": 4,
 "nbformat_minor": 5
}
