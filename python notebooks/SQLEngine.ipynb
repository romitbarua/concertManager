{
 "cells": [
  {
   "cell_type": "code",
   "execution_count": 1,
   "id": "7bfa11a9",
   "metadata": {},
   "outputs": [],
   "source": [
    "import pandas as pd"
   ]
  },
  {
   "cell_type": "code",
   "execution_count": 2,
   "id": "a86ca797",
   "metadata": {},
   "outputs": [],
   "source": [
    "#!pip install psycopg2-binary"
   ]
  },
  {
   "cell_type": "code",
   "execution_count": 3,
   "id": "bd41c634",
   "metadata": {},
   "outputs": [],
   "source": [
    "import psycopg2"
   ]
  },
  {
   "cell_type": "code",
   "execution_count": 10,
   "id": "b2cb13ef",
   "metadata": {},
   "outputs": [],
   "source": [
    "class SQLEngine:\n",
    "    \n",
    "    def __init__(self, host, dbname, user, password, sslmode):\n",
    "        self.host = host\n",
    "        self.dbname = dbname\n",
    "        self.user = user\n",
    "        self.password = password\n",
    "        self.sslmode = sslmode\n",
    "        self.conn_str = \"host={0} user={1} dbname={2} password={3} sslmode={4}\".format(host, user, dbname, password, sslmode)\n",
    "        self.connection = None\n",
    "        self.cursor = None\n",
    "        \n",
    "    def connect(self):\n",
    "        self.connection = psycopg2.connect(self.conn_str) \n",
    "        self.cursor = self.connection.cursor()\n",
    "        \n",
    "    def closeConnection(self):\n",
    "        self.cursor.close()\n",
    "        self.connection.close()\n",
    "        \n",
    "    def query(self, qry):\n",
    "        self.connect()\n",
    "        self.cursor.execute(qry)\n",
    "        records = self.cursor.fetchall()\n",
    "        self.closeConnection()\n",
    "        return records\n",
    "    \n",
    "    def insert(self, table, cols, data):\n",
    "        \n",
    "        #at present, this assumes that the data is coming in a pandas dataframe\n",
    "        #cols will be a list of columns\n",
    "        #table will be a string\n",
    "        \n",
    "        self.connect()\n",
    "        insert_str = 'insert into {table} ({cols}) values {data}'\n",
    "        insert_str = insert_str.replace('{table}', table)\n",
    "        \n",
    "        col_str = ','.join(cols)\n",
    "        insert_str = insert_str.replace('{cols}', col_str)\n",
    "        \n",
    "        rows_lst = []\n",
    "        for row in data.values.tolist():\n",
    "            enquoted_data = []\n",
    "            for item in row:\n",
    "                enquoted_data.append(\"'{}'\".format(item))\n",
    "            row_str = '({})'.format(','.join(enquoted_data))\n",
    "            rows_lst.append(row_str)\n",
    "        data_str = ','.join(rows_lst)\n",
    "        insert_str = insert_str.replace('{data}', data_str)\n",
    "        \n",
    "        self.cursor.execute(insert_str)\n",
    "        self.connection.commit()\n",
    "        \n",
    "        self.closeConnection()\n",
    "        \n",
    "    def executeSP(self, sp_name, sp_parameters):\n",
    "        \n",
    "        self.connect()\n",
    "        \n",
    "        enquoted_params = []\n",
    "        for param in sp_parameters:\n",
    "            enquoted_params.append(\"'{}'\".format(param))\n",
    "        \n",
    "        exec_str = 'call {}({})'.format(sp_name, ','.join(enquoted_params))\n",
    "        \n",
    "        #print(exec_str)\n",
    "        \n",
    "        self.cursor.execute(exec_str)\n",
    "        self.connection.commit()\n",
    "        \n",
    "        self.closeConnection()\n",
    "        \n",
    "        \n",
    "        "
   ]
  },
  {
   "cell_type": "code",
   "execution_count": 5,
   "id": "27080fec",
   "metadata": {},
   "outputs": [],
   "source": [
    "#login info\n",
    "host = \"concertmanager.postgres.database.azure.com\"\n",
    "dbname = \"ConcertManager\"\n",
    "user = \"romitbarua@concertmanager\"\n",
    "password = \"concertManager1234!\"\n",
    "sslmode = \"require\"\n"
   ]
  },
  {
   "cell_type": "code",
   "execution_count": 6,
   "id": "5d2d3a2b",
   "metadata": {},
   "outputs": [
    {
     "data": {
      "text/plain": [
       "[(1,), (2,), (5,), (5,)]"
      ]
     },
     "execution_count": 6,
     "metadata": {},
     "output_type": "execute_result"
    }
   ],
   "source": [
    "engine = SQLEngine(host, dbname, user, password, sslmode)\n",
    "qry = 'select * from Test'\n",
    "records = engine.query(qry)\n",
    "records"
   ]
  },
  {
   "cell_type": "code",
   "execution_count": 7,
   "id": "176c9ea1",
   "metadata": {},
   "outputs": [],
   "source": [
    "engine = SQLEngine(host, dbname, user, password, sslmode)\n",
    "testData = pd.DataFrame([[5], [5]])\n",
    "engine.insert('Test', ['test'], testData)"
   ]
  }
 ],
 "metadata": {
  "kernelspec": {
   "display_name": "Python 3",
   "language": "python",
   "name": "python3"
  },
  "language_info": {
   "codemirror_mode": {
    "name": "ipython",
    "version": 3
   },
   "file_extension": ".py",
   "mimetype": "text/x-python",
   "name": "python",
   "nbconvert_exporter": "python",
   "pygments_lexer": "ipython3",
   "version": "3.8.8"
  }
 },
 "nbformat": 4,
 "nbformat_minor": 5
}
