{
 "cells": [
  {
   "cell_type": "code",
   "execution_count": 1,
   "id": "b583075a",
   "metadata": {},
   "outputs": [],
   "source": [
    "%run 'SQLEngine.ipynb'"
   ]
  },
  {
   "cell_type": "code",
   "execution_count": 2,
   "id": "e1404ea9",
   "metadata": {},
   "outputs": [],
   "source": [
    "%run 'SpotifyEngine.ipynb'"
   ]
  },
  {
   "cell_type": "code",
   "execution_count": 3,
   "id": "8f736236",
   "metadata": {},
   "outputs": [],
   "source": [
    "target_artist = 'Dua Lipa'"
   ]
  },
  {
   "cell_type": "markdown",
   "id": "c4d1bd7a",
   "metadata": {},
   "source": [
    "# 1. Get the Current Data in the DB"
   ]
  },
  {
   "cell_type": "code",
   "execution_count": 4,
   "id": "05b45a73",
   "metadata": {},
   "outputs": [],
   "source": [
    "related_artist_qry = \"\"\"\n",
    "\n",
    "select related_a_name.artistname \"Name\"\n",
    "from artists target_a\n",
    "\n",
    "inner join related_artists related_a\n",
    "on related_a.targetaid = target_a.aid\n",
    "\n",
    "inner join artists related_a_name\n",
    "on related_a_name.aid = related_a.relatedaid\n",
    "\n",
    "where target_a.artistname = 'Dua Lipa'\n",
    "\n",
    "\"\"\""
   ]
  },
  {
   "cell_type": "code",
   "execution_count": 5,
   "id": "3ac6ebe3",
   "metadata": {},
   "outputs": [],
   "source": [
    "#login info\n",
    "host = \"concertmanager.postgres.database.azure.com\"\n",
    "dbname = \"ConcertManager\"\n",
    "user = \"romitbarua@concertmanager\"\n",
    "password = \"concertManager1234!\"\n",
    "sslmode = \"require\"\n",
    "engine = SQLEngine(host, dbname, user, password, sslmode)"
   ]
  },
  {
   "cell_type": "code",
   "execution_count": 6,
   "id": "7fc21067",
   "metadata": {},
   "outputs": [
    {
     "data": {
      "text/plain": [
       "[('Years & Years',)]"
      ]
     },
     "execution_count": 6,
     "metadata": {},
     "output_type": "execute_result"
    }
   ],
   "source": [
    "engine.query(related_artist_qry)"
   ]
  },
  {
   "cell_type": "markdown",
   "id": "4e708f87",
   "metadata": {},
   "source": [
    "# 2. Check if Any of the Current Related Artists have Concerts Coming Up"
   ]
  },
  {
   "cell_type": "markdown",
   "id": "a6cebb58",
   "metadata": {},
   "source": [
    "# 3. Pull New Related Artists from Spotify"
   ]
  },
  {
   "cell_type": "code",
   "execution_count": 7,
   "id": "0aa58ee4",
   "metadata": {},
   "outputs": [],
   "source": [
    "client_id = '868cd5aefb524008bee01a4c9b3feba1'\n",
    "client_secret = '50d9e80711934c858057e98af05676d9'\n",
    "redirect_uri = 'http://localhost:8080/callback'\n",
    "username = '1npp6j4y6ynf7jrkvwepadbyk'\n",
    "scope = 'playlist-modify-private'"
   ]
  },
  {
   "cell_type": "code",
   "execution_count": 8,
   "id": "9404ef47",
   "metadata": {},
   "outputs": [],
   "source": [
    "spotifyEngine = Spotify(client_id, client_secret, redirect_uri, username, scope)"
   ]
  },
  {
   "cell_type": "code",
   "execution_count": 9,
   "id": "662548c1",
   "metadata": {},
   "outputs": [],
   "source": [
    "related_df = spotifyEngine.getRelatedArtists(target_artist)"
   ]
  },
  {
   "cell_type": "code",
   "execution_count": 10,
   "id": "5ac02654",
   "metadata": {},
   "outputs": [
    {
     "data": {
      "text/html": [
       "<div>\n",
       "<style scoped>\n",
       "    .dataframe tbody tr th:only-of-type {\n",
       "        vertical-align: middle;\n",
       "    }\n",
       "\n",
       "    .dataframe tbody tr th {\n",
       "        vertical-align: top;\n",
       "    }\n",
       "\n",
       "    .dataframe thead th {\n",
       "        text-align: right;\n",
       "    }\n",
       "</style>\n",
       "<table border=\"1\" class=\"dataframe\">\n",
       "  <thead>\n",
       "    <tr style=\"text-align: right;\">\n",
       "      <th></th>\n",
       "      <th>TargetArtistName</th>\n",
       "      <th>TargetArtistSpotifyID</th>\n",
       "      <th>RelatedArtistName</th>\n",
       "      <th>RelatedArtistSpotifyID</th>\n",
       "    </tr>\n",
       "  </thead>\n",
       "  <tbody>\n",
       "    <tr>\n",
       "      <th>0</th>\n",
       "      <td>Dua Lipa</td>\n",
       "      <td>6M2wZ9GZgrQXHCFfjv46we</td>\n",
       "      <td>Years &amp; Years</td>\n",
       "      <td>5vBSrE1xujD2FXYRarbAXc</td>\n",
       "    </tr>\n",
       "    <tr>\n",
       "      <th>0</th>\n",
       "      <td>Dua Lipa</td>\n",
       "      <td>6M2wZ9GZgrQXHCFfjv46we</td>\n",
       "      <td>Rita Ora</td>\n",
       "      <td>5CCwRZC6euC8Odo6y9X8jr</td>\n",
       "    </tr>\n",
       "    <tr>\n",
       "      <th>0</th>\n",
       "      <td>Dua Lipa</td>\n",
       "      <td>6M2wZ9GZgrQXHCFfjv46we</td>\n",
       "      <td>Selena Gomez</td>\n",
       "      <td>0C8ZW7ezQVs4URX5aX7Kqx</td>\n",
       "    </tr>\n",
       "    <tr>\n",
       "      <th>0</th>\n",
       "      <td>Dua Lipa</td>\n",
       "      <td>6M2wZ9GZgrQXHCFfjv46we</td>\n",
       "      <td>Ava Max</td>\n",
       "      <td>4npEfmQ6YuiwW1GpUmaq3F</td>\n",
       "    </tr>\n",
       "    <tr>\n",
       "      <th>0</th>\n",
       "      <td>Dua Lipa</td>\n",
       "      <td>6M2wZ9GZgrQXHCFfjv46we</td>\n",
       "      <td>Fifth Harmony</td>\n",
       "      <td>1l8Fu6IkuTP0U5QetQJ5Xt</td>\n",
       "    </tr>\n",
       "    <tr>\n",
       "      <th>0</th>\n",
       "      <td>Dua Lipa</td>\n",
       "      <td>6M2wZ9GZgrQXHCFfjv46we</td>\n",
       "      <td>Camila Cabello</td>\n",
       "      <td>4nDoRrQiYLoBzwC5BhVJzF</td>\n",
       "    </tr>\n",
       "    <tr>\n",
       "      <th>0</th>\n",
       "      <td>Dua Lipa</td>\n",
       "      <td>6M2wZ9GZgrQXHCFfjv46we</td>\n",
       "      <td>Zara Larsson</td>\n",
       "      <td>1Xylc3o4UrD53lo9CvFvVg</td>\n",
       "    </tr>\n",
       "    <tr>\n",
       "      <th>0</th>\n",
       "      <td>Dua Lipa</td>\n",
       "      <td>6M2wZ9GZgrQXHCFfjv46we</td>\n",
       "      <td>Ellie Goulding</td>\n",
       "      <td>0X2BH1fck6amBIoJhDVmmJ</td>\n",
       "    </tr>\n",
       "    <tr>\n",
       "      <th>0</th>\n",
       "      <td>Dua Lipa</td>\n",
       "      <td>6M2wZ9GZgrQXHCFfjv46we</td>\n",
       "      <td>Jess Glynne</td>\n",
       "      <td>4ScCswdRlyA23odg9thgIO</td>\n",
       "    </tr>\n",
       "    <tr>\n",
       "      <th>0</th>\n",
       "      <td>Dua Lipa</td>\n",
       "      <td>6M2wZ9GZgrQXHCFfjv46we</td>\n",
       "      <td>DNCE</td>\n",
       "      <td>6T5tfhQCknKG4UnH90qGnz</td>\n",
       "    </tr>\n",
       "    <tr>\n",
       "      <th>0</th>\n",
       "      <td>Dua Lipa</td>\n",
       "      <td>6M2wZ9GZgrQXHCFfjv46we</td>\n",
       "      <td>Alessia Cara</td>\n",
       "      <td>2wUjUUtkb5lvLKcGKsKqsR</td>\n",
       "    </tr>\n",
       "    <tr>\n",
       "      <th>0</th>\n",
       "      <td>Dua Lipa</td>\n",
       "      <td>6M2wZ9GZgrQXHCFfjv46we</td>\n",
       "      <td>Demi Lovato</td>\n",
       "      <td>6S2OmqARrzebs0tKUEyXyp</td>\n",
       "    </tr>\n",
       "    <tr>\n",
       "      <th>0</th>\n",
       "      <td>Dua Lipa</td>\n",
       "      <td>6M2wZ9GZgrQXHCFfjv46we</td>\n",
       "      <td>Halsey</td>\n",
       "      <td>26VFTg2z8YR0cCuwLzESi2</td>\n",
       "    </tr>\n",
       "    <tr>\n",
       "      <th>0</th>\n",
       "      <td>Dua Lipa</td>\n",
       "      <td>6M2wZ9GZgrQXHCFfjv46we</td>\n",
       "      <td>Miley Cyrus</td>\n",
       "      <td>5YGY8feqx7naU7z4HrwZM6</td>\n",
       "    </tr>\n",
       "    <tr>\n",
       "      <th>0</th>\n",
       "      <td>Dua Lipa</td>\n",
       "      <td>6M2wZ9GZgrQXHCFfjv46we</td>\n",
       "      <td>Anne-Marie</td>\n",
       "      <td>1zNqDE7qDGCsyzJwohVaoX</td>\n",
       "    </tr>\n",
       "    <tr>\n",
       "      <th>0</th>\n",
       "      <td>Dua Lipa</td>\n",
       "      <td>6M2wZ9GZgrQXHCFfjv46we</td>\n",
       "      <td>ZAYN</td>\n",
       "      <td>5ZsFI1h6hIdQRw2ti0hz81</td>\n",
       "    </tr>\n",
       "    <tr>\n",
       "      <th>0</th>\n",
       "      <td>Dua Lipa</td>\n",
       "      <td>6M2wZ9GZgrQXHCFfjv46we</td>\n",
       "      <td>Mabel</td>\n",
       "      <td>1MIVXf74SZHmTIp4V4paH4</td>\n",
       "    </tr>\n",
       "    <tr>\n",
       "      <th>0</th>\n",
       "      <td>Dua Lipa</td>\n",
       "      <td>6M2wZ9GZgrQXHCFfjv46we</td>\n",
       "      <td>Madison Beer</td>\n",
       "      <td>2kRfqPViCqYdSGhYSM9R0Q</td>\n",
       "    </tr>\n",
       "    <tr>\n",
       "      <th>0</th>\n",
       "      <td>Dua Lipa</td>\n",
       "      <td>6M2wZ9GZgrQXHCFfjv46we</td>\n",
       "      <td>Clean Bandit</td>\n",
       "      <td>6MDME20pz9RveH9rEXvrOM</td>\n",
       "    </tr>\n",
       "    <tr>\n",
       "      <th>0</th>\n",
       "      <td>Dua Lipa</td>\n",
       "      <td>6M2wZ9GZgrQXHCFfjv46we</td>\n",
       "      <td>Hailee Steinfeld</td>\n",
       "      <td>5p7f24Rk5HkUZsaS3BLG5F</td>\n",
       "    </tr>\n",
       "  </tbody>\n",
       "</table>\n",
       "</div>"
      ],
      "text/plain": [
       "  TargetArtistName   TargetArtistSpotifyID RelatedArtistName  \\\n",
       "0         Dua Lipa  6M2wZ9GZgrQXHCFfjv46we     Years & Years   \n",
       "0         Dua Lipa  6M2wZ9GZgrQXHCFfjv46we          Rita Ora   \n",
       "0         Dua Lipa  6M2wZ9GZgrQXHCFfjv46we      Selena Gomez   \n",
       "0         Dua Lipa  6M2wZ9GZgrQXHCFfjv46we           Ava Max   \n",
       "0         Dua Lipa  6M2wZ9GZgrQXHCFfjv46we     Fifth Harmony   \n",
       "0         Dua Lipa  6M2wZ9GZgrQXHCFfjv46we    Camila Cabello   \n",
       "0         Dua Lipa  6M2wZ9GZgrQXHCFfjv46we      Zara Larsson   \n",
       "0         Dua Lipa  6M2wZ9GZgrQXHCFfjv46we    Ellie Goulding   \n",
       "0         Dua Lipa  6M2wZ9GZgrQXHCFfjv46we       Jess Glynne   \n",
       "0         Dua Lipa  6M2wZ9GZgrQXHCFfjv46we              DNCE   \n",
       "0         Dua Lipa  6M2wZ9GZgrQXHCFfjv46we      Alessia Cara   \n",
       "0         Dua Lipa  6M2wZ9GZgrQXHCFfjv46we       Demi Lovato   \n",
       "0         Dua Lipa  6M2wZ9GZgrQXHCFfjv46we            Halsey   \n",
       "0         Dua Lipa  6M2wZ9GZgrQXHCFfjv46we       Miley Cyrus   \n",
       "0         Dua Lipa  6M2wZ9GZgrQXHCFfjv46we        Anne-Marie   \n",
       "0         Dua Lipa  6M2wZ9GZgrQXHCFfjv46we              ZAYN   \n",
       "0         Dua Lipa  6M2wZ9GZgrQXHCFfjv46we             Mabel   \n",
       "0         Dua Lipa  6M2wZ9GZgrQXHCFfjv46we      Madison Beer   \n",
       "0         Dua Lipa  6M2wZ9GZgrQXHCFfjv46we      Clean Bandit   \n",
       "0         Dua Lipa  6M2wZ9GZgrQXHCFfjv46we  Hailee Steinfeld   \n",
       "\n",
       "   RelatedArtistSpotifyID  \n",
       "0  5vBSrE1xujD2FXYRarbAXc  \n",
       "0  5CCwRZC6euC8Odo6y9X8jr  \n",
       "0  0C8ZW7ezQVs4URX5aX7Kqx  \n",
       "0  4npEfmQ6YuiwW1GpUmaq3F  \n",
       "0  1l8Fu6IkuTP0U5QetQJ5Xt  \n",
       "0  4nDoRrQiYLoBzwC5BhVJzF  \n",
       "0  1Xylc3o4UrD53lo9CvFvVg  \n",
       "0  0X2BH1fck6amBIoJhDVmmJ  \n",
       "0  4ScCswdRlyA23odg9thgIO  \n",
       "0  6T5tfhQCknKG4UnH90qGnz  \n",
       "0  2wUjUUtkb5lvLKcGKsKqsR  \n",
       "0  6S2OmqARrzebs0tKUEyXyp  \n",
       "0  26VFTg2z8YR0cCuwLzESi2  \n",
       "0  5YGY8feqx7naU7z4HrwZM6  \n",
       "0  1zNqDE7qDGCsyzJwohVaoX  \n",
       "0  5ZsFI1h6hIdQRw2ti0hz81  \n",
       "0  1MIVXf74SZHmTIp4V4paH4  \n",
       "0  2kRfqPViCqYdSGhYSM9R0Q  \n",
       "0  6MDME20pz9RveH9rEXvrOM  \n",
       "0  5p7f24Rk5HkUZsaS3BLG5F  "
      ]
     },
     "execution_count": 10,
     "metadata": {},
     "output_type": "execute_result"
    }
   ],
   "source": [
    "related_df"
   ]
  },
  {
   "cell_type": "markdown",
   "id": "4e92647c",
   "metadata": {},
   "source": [
    "# 4. Upload Artist and Related Artist Data"
   ]
  },
  {
   "cell_type": "code",
   "execution_count": 11,
   "id": "e6bd6e0a",
   "metadata": {},
   "outputs": [],
   "source": [
    "def uploadRelatedArtistRow(row, SQLEngine):\n",
    "    SQLEngine.executeSP('add_related_artists', list(row))\n",
    "    \n",
    "\n",
    "def uploadRelatedArtist(related_df, SQLEngine):\n",
    "    related_df.apply(lambda rw:uploadRelatedArtistRow(rw, SQLEngine), axis=1)"
   ]
  },
  {
   "cell_type": "code",
   "execution_count": 12,
   "id": "670a59e8",
   "metadata": {},
   "outputs": [],
   "source": [
    "uploadRelatedArtist(related_df, engine)"
   ]
  },
  {
   "cell_type": "code",
   "execution_count": null,
   "id": "af8d0875",
   "metadata": {},
   "outputs": [],
   "source": [
    "def genFeatures(data):\n",
    "\n",
    "    data['hasFace'] = data['email'].str.contains('face=').astype('int')\n",
    "    data['hasSize'] = data['email'].str.contains('size=').astype('int')\n",
    "    data['hasWidth'] = data['email'].str.contains('width=').astype('int')\n",
    "    data['hasBlockquote'] = data['email'].str.contains('blockquote').astype('int')\n",
    "    data['isReply'] = data['subject'].str.contains('re:').astype('int')\n",
    "    data['isForward'] = data['subject'].str.contains('Fw:').astype('int')\n",
    "    data['includesSpam'] = data['email'].str.contains('spam').astype('int')\n",
    "    data['includesFree'] = np.where((data.subject.str.lower().str.contains('free')) | (data.email.str.lower().str.contains('free')), 1, 0)\n",
    "    data['subject$'] = data['subject'].str.contains('$').astype('int')\n",
    "    data['hasAssist'] = data['subject'].str.lower().str.contains('assistance').astype('int')\n",
    "    data['hasLink'] = data['email'].str.lower().str.contains('http').astype('int')\n",
    "    data['hasWWW'] = data['email'].str.lower().str.contains('www.').astype('int')\n",
    "    data['LinkAndWww'] = data['hasLink']*data['hasWWW']\n",
    "    data['emailPlease'] = data['email'].str.lower().str.contains('plea').astype('int')\n",
    "    data['subjectPlease'] = data['subject'].str.lower().str.contains('plea').astype('int')\n",
    "    data['emailHTML'] = data['email'].str.lower().str.contains('html').astype('int')\n",
    "\n",
    "    data['numSubjectChar'] = data['subject'].str.len()\n",
    "    data['numEmailChar'] = data['email'].str.len()\n",
    "\n",
    "    count = lambda l1,l2: sum([1 for x in l1 if x in l2])\n",
    "    data['emailPunc'] = data.email.apply(lambda s: count(s, string.punctuation))\n",
    "    data['subjectPunc'] = data.subject.apply(lambda s: count(s, string.punctuation))\n",
    "    data['subject!'] = data.subject.apply(lambda s: count(s, '!'))\n",
    "    data['email!'] = data.email.apply(lambda s: count(s, '!'))\n",
    "\n",
    "    cap_regex = '[A-Z][A-Z]+'\n",
    "    data['consecutiveCaps'] = data.subject.str.contains(cap_regex).astype('int')\n",
    "    pattern2 = '[1-9][1-9]+'\n",
    "    data['subjectNum'] = data.subject.str.contains(pattern2).astype('int')\n",
    "\n",
    "    data['emailPuncPerc'] = data['emailPunc']/data['numEmailChar']\n",
    "\n",
    "    longest_word = []\n",
    "    for i in range(len(data)):\n",
    "        longest_word.append(len(max(data.loc[i, 'email'].split(), key=len)))\n",
    "\n",
    "    data['longest_word'] = longest_word"
   ]
  }
 ],
 "metadata": {
  "kernelspec": {
   "display_name": "Python 3",
   "language": "python",
   "name": "python3"
  },
  "language_info": {
   "codemirror_mode": {
    "name": "ipython",
    "version": 3
   },
   "file_extension": ".py",
   "mimetype": "text/x-python",
   "name": "python",
   "nbconvert_exporter": "python",
   "pygments_lexer": "ipython3",
   "version": "3.8.8"
  }
 },
 "nbformat": 4,
 "nbformat_minor": 5
}
