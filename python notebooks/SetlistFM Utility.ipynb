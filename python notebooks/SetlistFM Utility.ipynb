{
 "cells": [
  {
   "cell_type": "code",
   "execution_count": 2,
   "id": "76830bdf",
   "metadata": {},
   "outputs": [],
   "source": [
    "import requests\n",
    "import requests"
   ]
  },
  {
   "cell_type": "code",
   "execution_count": 56,
   "id": "f14f317c",
   "metadata": {},
   "outputs": [],
   "source": [
    "class FMSetlist:\n",
    "    \n",
    "    def __init__(self, api_key, response_type='application/json'):\n",
    "        \n",
    "        self.headers = {'Accept':response_type, 'x-api-key':api_key}\n",
    "    \n",
    "    def getJsonResponse(self, url_base, params):\n",
    "        \n",
    "        response = requests.get(url_base, headers=self.headers, params=params)\n",
    "        return json.loads(response.text)\n",
    "    \n",
    "    def getSetlist(self, **params):\n",
    "        \n",
    "        url_base = 'https://api.setlist.fm/rest/1.0/search/setlists'\n",
    "        json = self.getJsonResponse(url_base, params)\n",
    "        \n",
    "        setlist = []\n",
    "        main_artist = json['setlist'][0]['artist']['name']\n",
    "        setlist_json = json['setlist'][0]['sets']['set']\n",
    "        \n",
    "        for songs_json in setlist_json:\n",
    "            for song in songs_json['song']:\n",
    "                song_name = song['name']\n",
    "                if 'cover' in song.keys():\n",
    "                    cover_artist = song['cover']['name']\n",
    "                    setlist.append((cover_artist, song_name))\n",
    "                else:\n",
    "                    setlist.append((main_artist, song_name))\n",
    "                \n",
    "        return setlist\n",
    "        \n",
    "        \n",
    "        \n",
    "        \n",
    "        "
   ]
  },
  {
   "cell_type": "code",
   "execution_count": 58,
   "id": "0ecb0507",
   "metadata": {},
   "outputs": [
    {
     "data": {
      "text/plain": [
       "[('Purple Disco Machine', 'Body Funk'),\n",
       " ('Dua Lipa', 'Physical'),\n",
       " ('Dua Lipa', 'New Rules'),\n",
       " ('Dua Lipa', 'Love Again'),\n",
       " ('Dua Lipa', 'Cool'),\n",
       " ('Dua Lipa', 'Pretty Please'),\n",
       " ('Dua Lipa', 'Break My Heart'),\n",
       " ('Dua Lipa', 'Be the One'),\n",
       " ('Dua Lipa', \"We're Good\"),\n",
       " ('Dua Lipa', 'Good in Bed'),\n",
       " ('Dua Lipa', 'Fever'),\n",
       " ('Dua Lipa', 'Boys Will Be Boys'),\n",
       " ('Dua Lipa', 'FutureNostalgia Club Mix'),\n",
       " ('Calvin Harris & Dua Lipa', 'One Kiss'),\n",
       " ('Silk City & Dua Lipa', 'Electricity'),\n",
       " ('Dua Lipa', 'Hallucinate'),\n",
       " ('Elton John', 'Cold Heart'),\n",
       " ('Dua Lipa', 'Levitating'),\n",
       " ('Dua Lipa', 'Future Nostalgia'),\n",
       " ('Dua Lipa', \"Don't Start Now\"),\n",
       " ('Whitney Houston', 'I Wanna Dance With Somebody (Who Loves Me)')]"
      ]
     },
     "execution_count": 58,
     "metadata": {},
     "output_type": "execute_result"
    }
   ],
   "source": [
    "api_key='6sG588tuEU67RUqWkqmYD4pBFfh_Avaqqzg0'\n",
    "FMSetlists = FMSetlist(api_key)\n",
    "FMSetlists.getSetlist(artistName='Dua Lipa')"
   ]
  }
 ],
 "metadata": {
  "kernelspec": {
   "display_name": "Python 3",
   "language": "python",
   "name": "python3"
  },
  "language_info": {
   "codemirror_mode": {
    "name": "ipython",
    "version": 3
   },
   "file_extension": ".py",
   "mimetype": "text/x-python",
   "name": "python",
   "nbconvert_exporter": "python",
   "pygments_lexer": "ipython3",
   "version": "3.8.8"
  }
 },
 "nbformat": 4,
 "nbformat_minor": 5
}
